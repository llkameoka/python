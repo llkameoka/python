{
  "nbformat": 4,
  "nbformat_minor": 0,
  "metadata": {
    "colab": {
      "name": "Lista_Exercicios.ipynb",
      "provenance": []
    },
    "kernelspec": {
      "name": "python3",
      "display_name": "Python 3"
    },
    "language_info": {
      "name": "python"
    }
  },
  "cells": [
    {
      "cell_type": "code",
      "metadata": {
        "colab": {
          "base_uri": "https://localhost:8080/"
        },
        "id": "2C5IJzODNEFz",
        "outputId": "4f7eaeac-74dc-4391-893e-1fa1a5432a79"
      },
      "source": [
        "'''\n",
        "Você tem uma lista de número: [6,7,4,7,8,4,2,5,7,'hum', 'dois']. A ideia do exercício é\n",
        "tirar a média de todos os valores contidos na lista, porém para fazer o cálculo\n",
        "precisa remover as strings\n",
        "'''\n",
        "\n",
        "lista = [6,7,4,7,8,4,2,5,7,'hum', 'dois']\n",
        "cont = 0\n",
        "qtd = 0\n",
        "for x in lista:\n",
        "    qtd += 1\n",
        "    #verifica se o elemento e um numero\n",
        "    if isinstance(x,int) == True:\n",
        "        cont += x\n",
        "print(qtd)\n",
        "print(cont)\n",
        "print('Média dos números da lista é = {:.2f}'.format(cont/qtd))\n",
        "\n"
      ],
      "execution_count": 1,
      "outputs": [
        {
          "output_type": "stream",
          "text": [
            "11\n",
            "50\n",
            "Média dos números da lista é = 4.55\n"
          ],
          "name": "stdout"
        }
      ]
    },
    {
      "cell_type": "code",
      "metadata": {
        "colab": {
          "base_uri": "https://localhost:8080/"
        },
        "id": "MO6grld1NO8N",
        "outputId": "78baa467-0e88-4f61-9ac3-861456361b19"
      },
      "source": [
        "'''\n",
        "Crie um método que receba duas matrizes, some os valores total de cada matriz e\n",
        "depois multiple o resultado delas e retorne o valor.\n",
        "'''\n",
        "def matrizes(mat1, mat2):\n",
        "    cont1 = 0\n",
        "    cont2 = 0\n",
        "    #somando valores da matriz 2\n",
        "    for linha in mat1:\n",
        "        for coluna in linha:\n",
        "            cont1 += coluna\n",
        "    #somando valores da matriz 2\n",
        "    for linha in mat2:\n",
        "        for coluna in linha:\n",
        "            cont2 += coluna\n",
        "    #multiplicando resultado da soma das matrizes\n",
        "    print(cont1 * cont2)\n",
        "\n",
        "\n",
        "lista1 = [[1, 2], [3, 4], [5, 6]]\n",
        "lista2 = [[7, 8], [9, 10], [11, 12]]\n",
        "matrizes(lista1, lista2)\n"
      ],
      "execution_count": 2,
      "outputs": [
        {
          "output_type": "stream",
          "text": [
            "1197\n"
          ],
          "name": "stdout"
        }
      ]
    },
    {
      "cell_type": "code",
      "metadata": {
        "colab": {
          "base_uri": "https://localhost:8080/"
        },
        "id": "jDC5g_yFNtei",
        "outputId": "9aad1927-18d9-484f-aa05-6d321322463d"
      },
      "source": [
        "'''\n",
        "Criar uma matriz nxm (n = 5, m =7)\n",
        "'''\n",
        "import numpy as np\n",
        "matriz = np.array(np.arange(35))\n",
        "matriz.shape = (5,7)\n",
        "print(matriz)"
      ],
      "execution_count": 3,
      "outputs": [
        {
          "output_type": "stream",
          "text": [
            "[[ 0  1  2  3  4  5  6]\n",
            " [ 7  8  9 10 11 12 13]\n",
            " [14 15 16 17 18 19 20]\n",
            " [21 22 23 24 25 26 27]\n",
            " [28 29 30 31 32 33 34]]\n"
          ],
          "name": "stdout"
        }
      ]
    },
    {
      "cell_type": "code",
      "metadata": {
        "colab": {
          "base_uri": "https://localhost:8080/"
        },
        "id": "4I1IEgLWN4SC",
        "outputId": "ef914dad-af2c-4b66-f77e-8e2994ecd9ef"
      },
      "source": [
        "#faça a matriz transposta desta matriz\n",
        "\n",
        "import numpy as np\n",
        "#comando arange é para gerar um lista com 35 numeros e o comando array transforma essa lista em um array\n",
        "matriz = np.array(np.arange(35))\n",
        "#comando shape transforma meu array em uma matriz\n",
        "matriz.shape = (5,7)\n",
        "transposta = matriz.transpose()\n",
        "print(transposta)"
      ],
      "execution_count": 4,
      "outputs": [
        {
          "output_type": "stream",
          "text": [
            "[[ 0  7 14 21 28]\n",
            " [ 1  8 15 22 29]\n",
            " [ 2  9 16 23 30]\n",
            " [ 3 10 17 24 31]\n",
            " [ 4 11 18 25 32]\n",
            " [ 5 12 19 26 33]\n",
            " [ 6 13 20 27 34]]\n"
          ],
          "name": "stdout"
        }
      ]
    },
    {
      "cell_type": "code",
      "metadata": {
        "colab": {
          "base_uri": "https://localhost:8080/"
        },
        "id": "mRy8mVluN_IF",
        "outputId": "3b362963-6f1c-432c-c3e7-2ac165ade283"
      },
      "source": [
        "#somar toda matrix\n",
        "import numpy as np\n",
        "matriz = np.array(np.arange(35))\n",
        "matriz.shape = (5,7)\n",
        "print(matriz)\n",
        "matriz.sum()"
      ],
      "execution_count": 5,
      "outputs": [
        {
          "output_type": "stream",
          "text": [
            "[[ 0  1  2  3  4  5  6]\n",
            " [ 7  8  9 10 11 12 13]\n",
            " [14 15 16 17 18 19 20]\n",
            " [21 22 23 24 25 26 27]\n",
            " [28 29 30 31 32 33 34]]\n"
          ],
          "name": "stdout"
        },
        {
          "output_type": "execute_result",
          "data": {
            "text/plain": [
              "595"
            ]
          },
          "metadata": {
            "tags": []
          },
          "execution_count": 5
        }
      ]
    },
    {
      "cell_type": "code",
      "metadata": {
        "colab": {
          "base_uri": "https://localhost:8080/"
        },
        "id": "wqTeYfq5Odsm",
        "outputId": "b7d1e6de-008c-4b98-905d-bd60cbfa88c0"
      },
      "source": [
        "#somar todas as colunas\n",
        "import numpy as np\n",
        "matriz = np.array(np.arange(35))\n",
        "matriz.shape = (5,7)\n",
        "#axis = 0 se refere a coluna\n",
        "matriz.sum(axis=0)"
      ],
      "execution_count": 6,
      "outputs": [
        {
          "output_type": "execute_result",
          "data": {
            "text/plain": [
              "array([ 70,  75,  80,  85,  90,  95, 100])"
            ]
          },
          "metadata": {
            "tags": []
          },
          "execution_count": 6
        }
      ]
    },
    {
      "cell_type": "code",
      "metadata": {
        "colab": {
          "base_uri": "https://localhost:8080/"
        },
        "id": "pFSGp88mOjIh",
        "outputId": "c9bb8098-6e5e-40d7-9588-76b57034e103"
      },
      "source": [
        "#somar todas as linhas.\n",
        "import numpy as np\n",
        "matriz = np.array(np.arange(35))\n",
        "matriz.shape = (5,7)\n",
        "#axis = 1 se refere a linha\n",
        "matriz.sum(axis=1)\t"
      ],
      "execution_count": 7,
      "outputs": [
        {
          "output_type": "execute_result",
          "data": {
            "text/plain": [
              "array([ 21,  70, 119, 168, 217])"
            ]
          },
          "metadata": {
            "tags": []
          },
          "execution_count": 7
        }
      ]
    },
    {
      "cell_type": "code",
      "metadata": {
        "colab": {
          "base_uri": "https://localhost:8080/"
        },
        "id": "b-WPY8boOqZW",
        "outputId": "4d0be15a-425f-43e5-9e3f-3bf4b968b7b5"
      },
      "source": [
        "#retorne o maior valor\n",
        "import numpy as np\n",
        "matriz = np.array(np.arange(35))\n",
        "matriz.shape = (5,7)\n",
        "maior = 0\n",
        "for i in matriz:\n",
        "  for j in i:\n",
        "  \t#comparacao para obter o maior numero\n",
        "    if j >= maior:\n",
        "      maior = j\n",
        "#usando numpy para obter o maior numero\n",
        "maior1 = matriz.max()\n",
        "print('Maior numero da matriz usando for: {}'.format(maior))\n",
        "print('Maior numero da matriz usando numpy: {}'.format(maior1))"
      ],
      "execution_count": 8,
      "outputs": [
        {
          "output_type": "stream",
          "text": [
            "Maior numero da matriz usando for: 34\n",
            "Maior numero da matriz usando numpy: 34\n"
          ],
          "name": "stdout"
        }
      ]
    },
    {
      "cell_type": "code",
      "metadata": {
        "colab": {
          "base_uri": "https://localhost:8080/"
        },
        "id": "roODxR5zO3x6",
        "outputId": "61c66371-c126-4c97-f4cc-22281bc0539c"
      },
      "source": [
        "#retorne o menor valor.\n",
        "import numpy as np\n",
        "matriz = np.array(np.arange(35))\n",
        "matriz.shape = (5,7)\n",
        "menor = matriz.min()\n",
        "print(menor)"
      ],
      "execution_count": 9,
      "outputs": [
        {
          "output_type": "stream",
          "text": [
            "0\n"
          ],
          "name": "stdout"
        }
      ]
    },
    {
      "cell_type": "code",
      "metadata": {
        "colab": {
          "base_uri": "https://localhost:8080/"
        },
        "id": "wNL9EN0FO8pN",
        "outputId": "d7954f64-82aa-4dbb-d17b-483fd5dfd294"
      },
      "source": [
        "#Crie uma matriz nxn (n=5). Agora some essa matriz com a matriz do exercício 3.\n",
        "import numpy as np\n",
        "matriz = np.array(np.arange(35))\n",
        "matriz.shape = (5,7)\n",
        "matriz2 = np.array(np.arange(25))\n",
        "matriz2.shape= (5,5)\n",
        "soma = matriz.sum() + matriz2.sum()\n",
        "print(soma)"
      ],
      "execution_count": 12,
      "outputs": [
        {
          "output_type": "stream",
          "text": [
            "895\n"
          ],
          "name": "stdout"
        }
      ]
    },
    {
      "cell_type": "code",
      "metadata": {
        "colab": {
          "base_uri": "https://localhost:8080/"
        },
        "id": "-5oyHePFPMdu",
        "outputId": "da05031c-b15e-4e0e-f96a-314648b3057e"
      },
      "source": [
        "#crie um array de números que vai de 0 a 1000.\n",
        "import numpy as np\n",
        "np.arange(1001)"
      ],
      "execution_count": 13,
      "outputs": [
        {
          "output_type": "execute_result",
          "data": {
            "text/plain": [
              "array([   0,    1,    2, ...,  998,  999, 1000])"
            ]
          },
          "metadata": {
            "tags": []
          },
          "execution_count": 13
        }
      ]
    },
    {
      "cell_type": "code",
      "metadata": {
        "id": "7t9JW2B7P37D"
      },
      "source": [
        "#crie uma matriz só de zeros.\n",
        "import numpy as np\n",
        "np.zeros((5,5))"
      ],
      "execution_count": null,
      "outputs": []
    }
  ]
}